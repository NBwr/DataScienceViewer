{
 "cells": [
  {
   "cell_type": "code",
   "execution_count": 10,
   "metadata": {},
   "outputs": [
    {
     "data": {
      "text/plain": [
       "'%.3f'"
      ]
     },
     "execution_count": 10,
     "metadata": {},
     "output_type": "execute_result"
    }
   ],
   "source": [
    "import statsmodels.api as sm\n",
    "import statsmodels.formula.api as smf\n",
    "import seaborn as sns\n",
    "\n",
    "%precision 3"
   ]
  },
  {
   "cell_type": "markdown",
   "metadata": {},
   "source": [
    "### Homework 6\n"
   ]
  },
  {
   "cell_type": "markdown",
   "metadata": {},
   "source": [
    "### Tasks\n",
    "\n",
    "\n",
    "1. Read sections 5.2, 3.1-3.4, 5.1 from the ISLR book thoroughly.\n",
    "    \n",
    "2. Suppose we have a data set with five predictors, $X1 = \\mathrm{GPA}$, $X2 = \\mathrm{IQ}$, $X3 = \\mathrm{Gender}$ (1 for Female and 0 for Male), $X4 = \\mathrm{Interaction\\ between\\ GPA\\ and\\ IQ}$, and $X5 = \\mathrm{Interaction\\ between\\ GPA\\ and\\ Gender}$. The response is starting salary after graduation (in thousands of dollars). Suppose we use least squares to fit the model, and get $\\hat{\\beta_0} = 50$, $\\hat{\\beta_1} = 20$, $\\hat{\\beta_2} = 0.07$, $\\hat{\\beta_3} = 35$, $\\hat{\\beta_4} = 0.01$, $\\hat{\\beta_5} = -10$.\n",
    "\n",
    "    * Which answer is correct, and why?\n",
    "        1. For a fixed value of IQ and GPA, males earn more on average than females.\n",
    "        2. For a fixed value of IQ and GPA, females earn more on average than males.\n",
    "        3. For a fixed value of IQ and GPA, males earn more on average than females provided that the GPA is high enough.\n",
    "        4. For a fixed value of IQ and GPA, females earn more on average than males provided that the GPA is high enough.\n",
    "\n",
    "    * Predict the salary of a female with IQ of 110 and a GPA of 4.0.\n",
    "\n",
    "    * True or false: Since the coefficient for the GPA/IQ interaction term is very small, there is very little evidence of an interaction effect. Justify your answer.\n",
    "     \n",
    "3. For the titanic interaction model below\n",
    "    * Compute the estimated survival probability for the first 2 rows in the Titanic data set \"by hand\" and compare with the predict function.\n",
    "    * Explain the precise meaning of the first two coefficients of the linear model.\n",
    "    * Test the hypothesis that being a third class passenger lowered the survival probability by as much as one half relative to 1st class, i.e. $H_0: \\beta_{Pclass3} \\leq  -0.5$."
   ]
  },
  {
   "cell_type": "code",
   "execution_count": 11,
   "metadata": {
    "scrolled": true
   },
   "outputs": [
    {
     "data": {
      "text/html": [
       "<table class=\"simpletable\">\n",
       "<tr>\n",
       "         <td></td>           <th>coef</th>     <th>std err</th>      <th>t</th>      <th>P>|t|</th>  <th>[0.025</th>    <th>0.975]</th>  \n",
       "</tr>\n",
       "<tr>\n",
       "  <th>Intercept</th>      <td>    1.1250</td> <td>    0.051</td> <td>   22.202</td> <td> 0.000</td> <td>    1.026</td> <td>    1.225</td>\n",
       "</tr>\n",
       "<tr>\n",
       "  <th>C(sex)[T.male]</th> <td>   -0.4795</td> <td>    0.031</td> <td>  -15.608</td> <td> 0.000</td> <td>   -0.540</td> <td>   -0.419</td>\n",
       "</tr>\n",
       "<tr>\n",
       "  <th>C(pclass)[T.2]</th> <td>   -0.2077</td> <td>    0.042</td> <td>   -4.983</td> <td> 0.000</td> <td>   -0.290</td> <td>   -0.126</td>\n",
       "</tr>\n",
       "<tr>\n",
       "  <th>C(pclass)[T.3]</th> <td>   -0.4066</td> <td>    0.038</td> <td>  -10.620</td> <td> 0.000</td> <td>   -0.482</td> <td>   -0.331</td>\n",
       "</tr>\n",
       "<tr>\n",
       "  <th>age</th>            <td>   -0.0055</td> <td>    0.001</td> <td>   -5.039</td> <td> 0.000</td> <td>   -0.008</td> <td>   -0.003</td>\n",
       "</tr>\n",
       "</table>"
      ],
      "text/plain": [
       "<class 'statsmodels.iolib.table.SimpleTable'>"
      ]
     },
     "execution_count": 11,
     "metadata": {},
     "output_type": "execute_result"
    }
   ],
   "source": [
    "#load data \n",
    "titanic = sns.load_dataset('titanic')\n",
    "est = smf.ols('survived ~ age  + C(sex) +C(pclass) ', titanic).fit()\n",
    "est.summary().tables[1]"
   ]
  },
  {
   "cell_type": "code",
   "execution_count": null,
   "metadata": {},
   "outputs": [],
   "source": []
  }
 ],
 "metadata": {
  "kernelspec": {
   "display_name": "Python 3",
   "language": "python",
   "name": "python3"
  },
  "language_info": {
   "codemirror_mode": {
    "name": "ipython",
    "version": 3
   },
   "file_extension": ".py",
   "mimetype": "text/x-python",
   "name": "python",
   "nbconvert_exporter": "python",
   "pygments_lexer": "ipython3",
   "version": "3.6.4"
  }
 },
 "nbformat": 4,
 "nbformat_minor": 2
}
