{
 "cells": [
  {
   "cell_type": "markdown",
   "metadata": {},
   "source": [
    "# Data Science 2020"
   ]
  },
  {
   "cell_type": "markdown",
   "metadata": {},
   "source": [
    "This page is a ressource for Data Science students and anyone interested in Data Science. In 12 classes distributions, hypothesis tests, linear regression, classification, trees (and more) are covered. "
   ]
  },
  {
   "cell_type": "markdown",
   "metadata": {},
   "source": [
    "# Classes"
   ]
  },
  {
   "cell_type": "markdown",
   "metadata": {},
   "source": [
    "[Class 1](https://nbviewer.jupyter.org/github/NBwr/DataScienceViewer/blob/master/Lessons/class1-Solution.ipynb)  \n",
    "[Class 2](https://nbviewer.jupyter.org/github/NBwr/DataScienceViewer/blob/master/Lessons/class2-Solution.ipynb)  \n",
    "[Class 3](https://nbviewer.jupyter.org/github/NBwr/DataScienceViewer/blob/master/Lessons/class3-Solution.ipynb)  \n",
    "[Class 4](https://nbviewer.jupyter.org/github/NBwr/DataScienceViewer/blob/master/Lessons/class4-Solution.ipynb)  \n",
    "[Class 5](https://nbviewer.jupyter.org/github/NBwr/DataScienceViewer/blob/master/Lessons/class5-RegressionI.ipynb)  \n",
    "[Class 6](https://nbviewer.jupyter.org/github/NBwr/DataScienceViewer/blob/master/Lessons/class6-RegressionII-Solution.ipynb)  \n",
    "[Class 7](https://nbviewer.jupyter.org/github/NBwr/DataScienceViewer/blob/master/Lessons/class7-ClassificationI-Solution.ipynb)  \n",
    "[Class 8](https://nbviewer.jupyter.org/github/NBwr/DataScienceViewer/blob/master/Lessons/class8-AdvRegrClassif.ipynb)  \n",
    "[Class 9](https://nbviewer.jupyter.org/github/NBwr/DataScienceViewer/blob/master/Lessons/class9.ipynb)  \n",
    "[Class 10](https://nbviewer.jupyter.org/github/NBwr/DataScienceViewer/blob/master/Lessons/class10-Trees.ipynb)  \n",
    "[Class 11](https://nbviewer.jupyter.org/github/NBwr/DataScienceViewer/blob/master/Lessons/class11-TreeBasedAlgorithms.ipynb)  \n",
    "[Class 12](https://nbviewer.jupyter.org/github/NBwr/DataScienceViewer/blob/master/Lessons/class12-Splines-GAMs.ipynb)  "
   ]
  },
  {
   "cell_type": "markdown",
   "metadata": {},
   "source": [
    "# GitHub"
   ]
  },
  {
   "cell_type": "markdown",
   "metadata": {},
   "source": [
    "This page is static, but you can download the Jupyter Notebooks on [GitHub](https://github.com/markusloecher/DataScience2018) and work with them in Jupyter Lab (or any other IDE)."
   ]
  }
 ],
 "metadata": {
  "kernelspec": {
   "display_name": "Python 3",
   "language": "python",
   "name": "python3"
  },
  "language_info": {
   "codemirror_mode": {
    "name": "ipython",
    "version": 3
   },
   "file_extension": ".py",
   "mimetype": "text/x-python",
   "name": "python",
   "nbconvert_exporter": "python",
   "pygments_lexer": "ipython3",
   "version": "3.7.3"
  }
 },
 "nbformat": 4,
 "nbformat_minor": 4
}
